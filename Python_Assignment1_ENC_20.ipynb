{
 "cells": [
  {
   "cell_type": "markdown",
   "id": "893ca836",
   "metadata": {},
   "source": [
    "# Assignment 1 Submitted by Nehal Junagade"
   ]
  },
  {
   "cell_type": "markdown",
   "id": "49410937",
   "metadata": {},
   "source": [
    "# Q1 Write a Python program to calculate the length of a string"
   ]
  },
  {
   "cell_type": "code",
   "execution_count": 1,
   "id": "27df4cb1",
   "metadata": {},
   "outputs": [
    {
     "name": "stdout",
     "output_type": "stream",
     "text": [
      "Enter the string: merry christmas\n"
     ]
    }
   ],
   "source": [
    "s=input(\"Enter the string: \")"
   ]
  },
  {
   "cell_type": "code",
   "execution_count": 2,
   "id": "f85aa330",
   "metadata": {},
   "outputs": [],
   "source": [
    "l1= len(s)"
   ]
  },
  {
   "cell_type": "code",
   "execution_count": 3,
   "id": "a39d4d24",
   "metadata": {},
   "outputs": [
    {
     "name": "stdout",
     "output_type": "stream",
     "text": [
      "Length of given string : 15\n"
     ]
    }
   ],
   "source": [
    "print(\"Length of given string :\", l1)"
   ]
  },
  {
   "cell_type": "markdown",
   "id": "caa17596",
   "metadata": {},
   "source": [
    "# Q2 Python program to calculate the square root"
   ]
  },
  {
   "cell_type": "code",
   "execution_count": 4,
   "id": "a3e4dae9",
   "metadata": {},
   "outputs": [
    {
     "name": "stdout",
     "output_type": "stream",
     "text": [
      "Enter the number: \n",
      "25\n"
     ]
    }
   ],
   "source": [
    "print(\"Enter the number: \")\n",
    "num= int(input())"
   ]
  },
  {
   "cell_type": "code",
   "execution_count": 5,
   "id": "d7cf0233",
   "metadata": {},
   "outputs": [],
   "source": [
    "squareroot= num**0.5"
   ]
  },
  {
   "cell_type": "code",
   "execution_count": 6,
   "id": "4aef6b99",
   "metadata": {},
   "outputs": [
    {
     "name": "stdout",
     "output_type": "stream",
     "text": [
      "\n",
      "square root= 5.0\n"
     ]
    }
   ],
   "source": [
    "print(\"\\nsquare root=\", squareroot)"
   ]
  },
  {
   "cell_type": "markdown",
   "id": "5e048697",
   "metadata": {},
   "source": [
    "# Q3 Write a python program to convert temperature in celcius to temperature in fahrenheit"
   ]
  },
  {
   "cell_type": "code",
   "execution_count": 7,
   "id": "3b6ce340",
   "metadata": {},
   "outputs": [
    {
     "name": "stdout",
     "output_type": "stream",
     "text": [
      "enter temperaturein celsius: 30\n"
     ]
    }
   ],
   "source": [
    "Celsius= float(input(\"enter temperaturein celsius: \"))"
   ]
  },
  {
   "cell_type": "code",
   "execution_count": 8,
   "id": "c1b7c0ac",
   "metadata": {},
   "outputs": [],
   "source": [
    "fahrenheit= (Celsius*1.8)+32"
   ]
  },
  {
   "cell_type": "code",
   "execution_count": 9,
   "id": "cd047180",
   "metadata": {},
   "outputs": [
    {
     "name": "stdout",
     "output_type": "stream",
     "text": [
      "30.0 degree celsius is equal to 86.0 degree fahrenheit.\n"
     ]
    }
   ],
   "source": [
    "print(str(Celsius ) + \" degree celsius is equal to \"+ str(fahrenheit ) +\" degree fahrenheit.\")"
   ]
  },
  {
   "cell_type": "markdown",
   "id": "2caa3299",
   "metadata": {},
   "source": [
    "# Q4 Write a data type needed for given data (10,4.5,2+6j)"
   ]
  },
  {
   "cell_type": "code",
   "execution_count": 10,
   "id": "a77a740f",
   "metadata": {},
   "outputs": [],
   "source": [
    "num=10"
   ]
  },
  {
   "cell_type": "code",
   "execution_count": 11,
   "id": "50afc49d",
   "metadata": {},
   "outputs": [
    {
     "data": {
      "text/plain": [
       "int"
      ]
     },
     "execution_count": 11,
     "metadata": {},
     "output_type": "execute_result"
    }
   ],
   "source": [
    "type(num)"
   ]
  },
  {
   "cell_type": "code",
   "execution_count": 12,
   "id": "81d424f2",
   "metadata": {},
   "outputs": [],
   "source": [
    "num=4.5"
   ]
  },
  {
   "cell_type": "code",
   "execution_count": 13,
   "id": "7653c846",
   "metadata": {},
   "outputs": [
    {
     "data": {
      "text/plain": [
       "float"
      ]
     },
     "execution_count": 13,
     "metadata": {},
     "output_type": "execute_result"
    }
   ],
   "source": [
    "type(num)"
   ]
  },
  {
   "cell_type": "code",
   "execution_count": 14,
   "id": "a447f3c4",
   "metadata": {},
   "outputs": [],
   "source": [
    "num=(2+6j)"
   ]
  },
  {
   "cell_type": "code",
   "execution_count": 15,
   "id": "86fdaff4",
   "metadata": {},
   "outputs": [
    {
     "data": {
      "text/plain": [
       "complex"
      ]
     },
     "execution_count": 15,
     "metadata": {},
     "output_type": "execute_result"
    }
   ],
   "source": [
    "type(num)"
   ]
  },
  {
   "cell_type": "code",
   "execution_count": null,
   "id": "524cc645",
   "metadata": {},
   "outputs": [],
   "source": []
  }
 ],
 "metadata": {
  "kernelspec": {
   "display_name": "Python 3 (ipykernel)",
   "language": "python",
   "name": "python3"
  },
  "language_info": {
   "codemirror_mode": {
    "name": "ipython",
    "version": 3
   },
   "file_extension": ".py",
   "mimetype": "text/x-python",
   "name": "python",
   "nbconvert_exporter": "python",
   "pygments_lexer": "ipython3",
   "version": "3.9.13"
  }
 },
 "nbformat": 4,
 "nbformat_minor": 5
}
